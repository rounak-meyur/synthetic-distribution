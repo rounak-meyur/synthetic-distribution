{
 "cells": [
  {
   "cell_type": "markdown",
   "metadata": {},
   "source": [
    "The first task is to map home/residential buildings to the nearest road link. "
   ]
  },
  {
   "cell_type": "code",
   "execution_count": 7,
   "metadata": {},
   "outputs": [],
   "source": [
    "# Import necessary modules\n",
    "import sys,os\n",
    "import pandas as pd\n",
    "import networkx as nx\n",
    "from IPython.display import Latex\n",
    "\n",
    "# Store path to necessary directories\n",
    "workPath = os.getcwd()\n",
    "inpPath = workPath + \"/input/\"\n",
    "libPath = workPath + \"/Libraries/\"\n",
    "csvPath = workPath + \"/csv/\"\n",
    "figPath = workPath + \"/figs/\"\n",
    "tmpPath = workPath + \"/temp/\"\n",
    "\n",
    "# Append the user defined libraries to system path\n",
    "sys.path.append(libPath)\n",
    "\n",
    "# Import required functions/classes from user defined libraries\n",
    "from pyExtractDatalib import Query\n",
    "from pyMapElementslib import MapLink"
   ]
  },
  {
   "cell_type": "markdown",
   "metadata": {},
   "source": [
    "In this work, we try to generate the distribution network for a given\n",
    "area (county/town/city) from different open source publicly available\n",
    "information. These data pertain to following sources.\n",
    "\n",
    "1.  Transportation network data published by NAVTEQ [@navteq:references].\n",
    "\n",
    "2.  Geographical location of high voltage (HV) and extra-high voltage\n",
    "    (EHV) substations from data sets published by U.S. Energy\n",
    "    Information Administration (EIA) [@eia_substations].\n",
    "\n",
    "3.  Residential electric power demand information developed in the\n",
    "    models by [@swapna_2018]."
   ]
  },
  {
   "cell_type": "code",
   "execution_count": null,
   "metadata": {},
   "outputs": [],
   "source": [
    "# Load the data through an object of class Query\n",
    "q_object = Query(csvPath)\n",
    "gdf_home,homes = q_object.GetHomes()\n",
    "roads = q_object.GetRoads()\n",
    "#MapLink(roads).map_points(homes,path=csvPath,name='home')"
   ]
  },
  {
   "cell_type": "code",
   "execution_count": null,
   "metadata": {},
   "outputs": [],
   "source": []
  },
  {
   "cell_type": "code",
   "execution_count": null,
   "metadata": {},
   "outputs": [],
   "source": [
    "#automatic document conversion to markdown and then to word\n",
    "#first convert the ipython notebook to markdown\n",
    "system(\"jupyter nbconvert --to markdown syndist.ipynb\")\n",
    "#next convert markdown to ms word\n",
    "conversion <- paste0(\"pandoc -s paper.md -t docx -o paper.docx\",\n",
    "               \" --filter pandoc-citeproc\",\n",
    "               \" --bibliography=\"references.bib\",\n",
    "               \" --csl=\"ieee.csl\")\n",
    "system(conversion)"
   ]
  }
 ],
 "metadata": {
  "kernelspec": {
   "display_name": "Python 3",
   "language": "python",
   "name": "python3"
  },
  "language_info": {
   "codemirror_mode": {
    "name": "ipython",
    "version": 3
   },
   "file_extension": ".py",
   "mimetype": "text/x-python",
   "name": "python",
   "nbconvert_exporter": "python",
   "pygments_lexer": "ipython3",
   "version": "3.7.4"
  }
 },
 "nbformat": 4,
 "nbformat_minor": 2
}
